{
 "cells": [
  {
   "cell_type": "markdown",
   "metadata": {},
   "source": [
    "# Minimum cost path"
   ]
  },
  {
   "cell_type": "code",
   "execution_count": 1,
   "metadata": {},
   "outputs": [],
   "source": [
    "import sys"
   ]
  },
  {
   "cell_type": "code",
   "execution_count": 2,
   "metadata": {},
   "outputs": [],
   "source": [
    "def minCost(cost, m, n):\n",
    "    if (n < 0 or m < 0):\n",
    "        return sys.maxsize\n",
    "    elif (m == 0 and n == 0):\n",
    "        return cost[m][n]\n",
    "    else:\n",
    "        return cost[m][n] + min( minCost(cost, m-1, n-1),\n",
    "                                minCost(cost, m-1, n),\n",
    "                                minCost(cost, m, n-1))"
   ]
  },
  {
   "cell_type": "code",
   "execution_count": 3,
   "metadata": {},
   "outputs": [],
   "source": [
    "def min(x, y, z):\n",
    "    if (x < y):\n",
    "        return x if (x < z) else z\n",
    "    else:\n",
    "        return y if (y < z) else z"
   ]
  },
  {
   "cell_type": "code",
   "execution_count": 4,
   "metadata": {},
   "outputs": [
    {
     "name": "stdout",
     "output_type": "stream",
     "text": [
      "Number of rows: 3\n",
      "Number of columns: 4\n",
      "Enter the values with space seperated\n",
      "3 4 1 2\n",
      "2 1 8 9\n",
      "4 7 8 1\n",
      "13\n"
     ]
    }
   ],
   "source": [
    "# Driver program to test above functions\n",
    "m = int(input('Number of rows: '))\n",
    "n = int(input('Number of columns: '))\n",
    "\n",
    "cost = []\n",
    "print('Enter the values with space seperated')\n",
    "for i in range(m):\n",
    "    cost.append(list(map(int,input().split())))\n",
    "\n",
    "print(minCost(cost, m-1, n-1))"
   ]
  }
 ],
 "metadata": {
  "kernelspec": {
   "display_name": "Python 3",
   "language": "python",
   "name": "python3"
  },
  "language_info": {
   "codemirror_mode": {
    "name": "ipython",
    "version": 3
   },
   "file_extension": ".py",
   "mimetype": "text/x-python",
   "name": "python",
   "nbconvert_exporter": "python",
   "pygments_lexer": "ipython3",
   "version": "3.7.1"
  }
 },
 "nbformat": 4,
 "nbformat_minor": 4
}
